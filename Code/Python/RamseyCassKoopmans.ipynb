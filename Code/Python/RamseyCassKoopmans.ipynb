{
 "cells": [
  {
   "cell_type": "markdown",
   "metadata": {},
   "source": [
    "# Numerical Solution of Ramsey/Cass-Koopmans model\n",
    "\n",
    "[![Binder](https://mybinder.org/badge_logo.svg)](https://mybinder.org/v2/gh/llorracc/Jupyter/master?filepath=notebooks%2FRamseyCassKoopmans.ipynb)\n",
    "\n",
    "\n",
    "## by [Mateo Velásquez-Giraldo](https://github.com/Mv77)\n",
    "\n",
    "This notebook implements a python-language `class` representing Ramsey's growth model. Current capacities include:\n",
    "- Numerically finding the consumption rule using the 'time elimination' method as originally implemented by Alexander Tabarrok and updated by Christopher D. Carroll in this [Wolfram Mathematica notebook](www.econ2.jhu.edu/people/ccarroll/public/LectureNotes/Growth/RamseyNumericSolve.zip)\n",
    "- Drawing the phase diagram of the model.\n",
    "- Simulating optimal dynamics from a given starting point.\n",
    "\n",
    "A formal treatment of the exact version of the model implemented in this notebook can be found in [Christopher Carroll's graduate macroeconomics lecture notes](http://www.econ2.jhu.edu/people/ccarroll/public/LectureNotes/Growth/RamseyCassKoopmans/).\n"
   ]
  },
  {
   "cell_type": "markdown",
   "metadata": {},
   "source": [
    "## Time Elimination\n",
    "\n",
    "The 'time elimination' method is a straightforward way to obtain the slope of the saddle path of the model (the 'consumption function').\n",
    "\n",
    "The idea is simple.  The model has two dynamic equations:\n",
    "   * $dc/dt$ is given by the consumption Euler equation\n",
    "   * $dk/dt$ is given by the dynamic budget constraint\n",
    "\n",
    "To produce a phase diagram $\\{k,c\\}$ space, though, we need $dc/dk$.  The 'time elimination' method is simply to note that \n",
    "\n",
    "$\\left(\\frac{dc/dt}{dk/dt}\\right)=\\left(\\frac{dc}{dk}\\right)$\n",
    "\n",
    "If we begin with some point that is on the saddle path (the consumption \"policy function\"), the equation for $dc/dk$ will tell us how to construct the function at other points along the saddle path"
   ]
  },
  {
   "cell_type": "code",
   "execution_count": 1,
   "metadata": {
    "code_folding": [
     0
    ],
    "lines_to_next_cell": 1
   },
   "outputs": [],
   "source": [
    "# Setup\n",
    "\n",
    "# Tools for navigating the filesystem\n",
    "import sys\n",
    "import os\n",
    "\n",
    "import numpy as np\n",
    "import matplotlib.pyplot as plt\n",
    "\n",
    "from scipy.integrate import odeint\n",
    "from scipy import interpolate\n",
    "\n",
    "from numpy import linalg as LA\n",
    "\n",
    "# Set up some special requirements for this notebook; please be patient, it may take 3-5 minutes\n",
    "\n",
    "# Determine the platform so we can do things specific to each \n",
    "import platform\n",
    "pform = ''\n",
    "pform = platform.platform().lower()\n",
    "if 'darwin' in pform:\n",
    "    pf = 'darwin' # MacOS\n",
    "if 'debian' in pform:\n",
    "    pf = 'debian' # Probably cloud (MyBinder, CoLab, ...)\n",
    "if 'ubuntu' in pform:\n",
    "    pf = 'debian' # Probably cloud (MyBinder, CoLab, ...)\n",
    "if 'win' in pform:\n",
    "    pf = 'win'\n",
    "\n",
    "# Test whether latex is installed (some of the figures require it)\n",
    "from distutils.spawn import find_executable\n",
    "\n",
    "latexExists=False\n",
    "\n",
    "if find_executable('latex'):\n",
    "    latexExists=True\n",
    "\n",
    "if not latexExists:\n",
    "    print('Some of the figures below require a full installation of LaTeX')\n",
    "    \n",
    "    # If running on Mac or Win, user can be assumed to be able to install\n",
    "    # any missing packages in response to error messages; but not on cloud\n",
    "    # so load LaTeX by hand (painfully slowly)\n",
    "    if 'debian' in pf: # CoLab and MyBinder are both ubuntu\n",
    "        print('Installing LaTeX now; please wait 3-5 minutes')\n",
    "        from IPython.utils import io\n",
    "        \n",
    "        with io.capture_output() as captured: # Hide hideously long output \n",
    "            os.system('apt-get update')\n",
    "            os.system('apt-get install texlive texlive-latex-extra texlive-xetex dvipng')\n",
    "            latexExists=True\n",
    "    else:\n",
    "        print('Please install a full distributon of LaTeX on your computer then rerun.')\n",
    "        print('A full distribution means textlive, texlive-latex-extras, texlive-xetex, dvipng, and ghostscript')\n",
    "        sys.exit()\n",
    "\n",
    "# If the ipython process contains 'terminal' assume not in a notebook\n",
    "def in_ipynb():\n",
    "    try:\n",
    "        if 'terminal' in str(type(get_ipython())):\n",
    "            return False\n",
    "        else:\n",
    "            return True\n",
    "    except NameError:\n",
    "        return False\n",
    "\n",
    "# In order to use LaTeX to manage all text layout in our figures, \n",
    "# we import rc settings from matplotlib.\n",
    "from matplotlib import rc\n",
    "\n",
    "plt.rc('font', family='serif')\n",
    "plt.rc('text', usetex=latexExists)\n",
    "if latexExists:\n",
    "    latex_preamble = r'\\usepackage{amsmath}\\usepackage{amsfonts}\\usepackage[T1]{fontenc}'\n",
    "    from os import path\n",
    "    latexdefs_path = os.getcwd()+'/latexdefs.tex'\n",
    "    if path.isfile(latexdefs_path):\n",
    "        latex_preamble = latex_preamble+r'\\input{'+latexdefs_path+r'}'\n",
    "    else: # the required latex_envs package needs this file to exist even if it is empty\n",
    "        from pathlib import Path\n",
    "        Path(latexdefs_path).touch()\n",
    "    plt.rcParams['text.latex.preamble'] = latex_preamble\n",
    "    \n",
    "# This is a jupytext paired notebook that autogenerates BufferStockTheory.py\n",
    "# which can be executed from a terminal command line via \"ipython BufferStockTheory.py\"\n",
    "# But a terminal does not permit inline figures, so we need to test jupyter vs terminal\n",
    "# Google \"how can I check if code is executed in the ipython notebook\"\n",
    "\n",
    "# Determine whether to make the figures inline (for spyder or jupyter)\n",
    "# vs whatever is the automatic setting that will apply if run from the terminal\n",
    "if in_ipynb():\n",
    "    # %matplotlib inline generates a syntax error when run from the shell\n",
    "    # so do this instead\n",
    "    get_ipython().run_line_magic('matplotlib', 'inline')\n",
    "else:\n",
    "    get_ipython().run_line_magic('matplotlib', 'auto')\n",
    "\n",
    "# Code to allow a master \"Generator\" and derived \"Generated\" versions\n",
    "#   - allows \"$nb-Problems-And-Solutions → $nb-Problems → $nb\"\n",
    "Generator=False # Is this notebook the master or is it generated?\n",
    "\n",
    "# Where to put any figures that the user wants to save\n",
    "my_file_path = os.path.dirname(os.path.abspath(\"BufferStockTheory.ipynb\")) # Find pathname to this file:\n",
    "Figures_dir = os.path.join(my_file_path,\"Figures/\") # LaTeX document assumes figures will be here\n",
    "if not os.path.exists(Figures_dir):\n",
    "    os.makedirs(Figures_dir)\n",
    "    \n",
    "# Whether to save the figures to local filesystem\n",
    "saveFigs=True\n",
    "\n",
    "# Whether to draw the figures\n",
    "drawFigs=True\n",
    "\n",
    "if not in_ipynb(): # running in batch mode\n",
    "    print('You appear to be running from a terminal')\n",
    "    if drawFigs:\n",
    "        print('By default, figures will appear one by one')\n",
    "        \n",
    "# Create, and if desired, save and show the figures\n",
    "def show(figure_name, target_dir=\"Figures\"):\n",
    "    # Save the figures in several formats\n",
    "    # print(f\"Saving figure {figure_name} in {target_dir}\")\n",
    "    if saveFigs:\n",
    "        plt.savefig(os.path.join(target_dir, f'{figure_name}.png')) # For web/html\n",
    "        plt.savefig(os.path.join(target_dir, f'{figure_name}.jpg')) # Useful to make versions \n",
    "        plt.savefig(os.path.join(target_dir, f'{figure_name}.pdf')) # For LaTeX\n",
    "        plt.savefig(os.path.join(target_dir, f'{figure_name}.svg')) # For html5\n",
    "    if not in_ipynb():\n",
    "        if drawFigs: # Only want to draw them if you're in a GUI\n",
    "            plt.ioff()   # When plotting in the terminal, do not use interactive mode\n",
    "            plt.draw()  \n",
    "            plt.pause(2) # Wait a couple of secs to allow the figure to be briefly visible after being drawn\n",
    "    else:\n",
    "        plt.show(block=True) # Change to false if you want to run uninterrupted"
   ]
  },
  {
   "cell_type": "code",
   "execution_count": 2,
   "metadata": {
    "code_folding": [
     0
    ]
   },
   "outputs": [],
   "source": [
    "# Implement the RCKmod class\n",
    "\n",
    "class RCKmod:\n",
    "    \"\"\"\n",
    "    A class representing Ramsey/Cass-Koopmans growth models.\n",
    "    \"\"\"\n",
    "    \n",
    "    def __init__(self,rho,alpha,theta,xi,delta,phi):\n",
    "        \"\"\"\n",
    "        Inputs:\n",
    "        - rho:   relative risk aversion coefficient for CRRA utility.\n",
    "        - alpha: capital's share of production in Cobb-Douglas output function.\n",
    "        - theta: time preference/discount rate.\n",
    "        - xi:    population growth rate.\n",
    "        - delta: capital depreciation rate.\n",
    "        - phi:   labor productivity growth rate.        \n",
    "        \"\"\"\n",
    "        # Assign parameter values\n",
    "        self.rho = rho\n",
    "        self.alpha = alpha\n",
    "        self.theta = theta\n",
    "        self.xi = xi\n",
    "        self.delta = delta\n",
    "        self.phi = phi\n",
    "        \n",
    "        # Create empty consumption function\n",
    "        self.cFunc = None\n",
    "        \n",
    "        # Maximum capital\n",
    "        self.kmax = (1/(self.phi + self.xi + self.delta))**(1/(1-self.alpha))\n",
    "        \n",
    "        # Steady state capital\n",
    "        self.kss = (alpha/(theta + xi + delta + rho*phi))**(1/(1-alpha))\n",
    "        # Steady state consumption\n",
    "        self.css = self.kss**alpha - (xi + delta + phi)*self.kss\n",
    "        \n",
    "        # Solve the model to create its consumption function\n",
    "        self.solve()\n",
    "    \n",
    "    def output(self,k):\n",
    "        \"\"\"\n",
    "        Cobb-Douglas normalized production function\n",
    "        \"\"\"\n",
    "        return(k**self.alpha)\n",
    "    \n",
    "    def dcdt(self,c,k):\n",
    "        \"\"\"\n",
    "        Consumption differential equation\n",
    "        \"\"\"\n",
    "        dc = c/self.rho*(self.alpha*k**(self.alpha - 1) - self.theta -\\\n",
    "                         (self.xi + self.delta) -self.rho*self.phi)\n",
    "        return(dc)\n",
    "    \n",
    "    def dkdt(self,c,k):\n",
    "        \"\"\"\n",
    "        Capital differential equation\n",
    "        \"\"\"\n",
    "        dk = self.output(k) - c - (self.phi + self.xi + self.delta)*k\n",
    "        return(dk)\n",
    "        \n",
    "    def dcdk(self,c,k):\n",
    "        \"\"\"\n",
    "        Differential equation for the time elimination method.\n",
    "        This corresponds to dc/dk = (dc/dt)/(dk/dt)\n",
    "        \"\"\"\n",
    "        return(self.dcdt(c,k)/self.dkdt(c,k))\n",
    "    \n",
    "    def solve(self, eps = 10**(-8), npoints = 400):\n",
    "        \"\"\"\n",
    "        Solves for the model's consumption rule through the time elimination\n",
    "        method.\n",
    "        \n",
    "        Parameters:\n",
    "        - eps:     disturbance used to prevent dc/dk from becoming 0/0 at\n",
    "                   the steady state value of capital.\n",
    "        - npoints: number of points used on each side of the steady\n",
    "                   state capital for solving the dc/dk equation.\n",
    "        \"\"\"\n",
    "        # K ranges, avoiding kss through a small disturbance\n",
    "        k_below = np.linspace(self.kss-eps,0.0001,npoints)\n",
    "        k_above = np.linspace(self.kss+eps,self.kmax,npoints)\n",
    "        k = np.concatenate((k_below,k_above)).flatten()\n",
    "        \n",
    "        # Solve for c on each side of the steady state capital,\n",
    "        # Using the slope of the saddle path to approximate initial\n",
    "        # conditions\n",
    "        c_below = odeint(self.dcdk,\n",
    "                         self.css - eps*self.slope_ss(), k_below)\n",
    "        c_above = odeint(self.dcdk,\n",
    "                         self.css + eps*self.slope_ss(), k_above)\n",
    "        \n",
    "        c = np.concatenate((c_below,c_above)).flatten()\n",
    "        \n",
    "        # Create consumption function as an interpolation of the\n",
    "        # numerical solutions.\n",
    "        self.cFunc = interpolate.interp1d(k,c)\n",
    "    \n",
    "    \n",
    "    def dkdt_opt(self,k,t):\n",
    "        \"\"\"\n",
    "        Differential equation for k assuming optimal c decisions.\n",
    "        \"\"\"\n",
    "        return(self.dkdt(self.cFunc(k),k))\n",
    "    \n",
    "    \n",
    "    def k_dynamics(self,k0,t):\n",
    "        \"\"\"\n",
    "        Simulates optimal capital dynamics from a given starting point.\n",
    "        Parameters:\n",
    "        - t : vector of time points at which to solve for capital\n",
    "        - k0: value of capital at t[0]\n",
    "        \"\"\"\n",
    "        k = odeint(self.dkdt_opt, k0, t)\n",
    "        return(k)\n",
    "    \n",
    "    \n",
    "    def k0locus(self,k):\n",
    "        \"\"\"\n",
    "        Returns the consumption value that leaves a given ammount of\n",
    "        effective capital unchanged.\n",
    "        \"\"\"\n",
    "        return(self.output(k) - (self.phi + self.xi + self.delta)*k)\n",
    "        \n",
    "    def phase_diagram(self, npoints = 200, arrows = False, n_arrows = 5, labels = True, legend = True):\n",
    "        \"\"\"\n",
    "        Plots the model's phase diagram.\n",
    "        - npoints:  number of ticks in the k axis.\n",
    "        - arrows:   boolean to indicate whether or not to draw arrow\n",
    "                    grid.\n",
    "        - n_arrows: controls the number of arrows in the grid\n",
    "        \"\"\"\n",
    "        \n",
    "        k = np.linspace(0.01,self.kmax,npoints)\n",
    "        \n",
    "        # Create plot\n",
    "        plt.figure()\n",
    "        \n",
    "        # Plot k0 locus\n",
    "        plt.plot(k,self.k0locus(k),label = '$\\\\dot{k}=0$ locus')\n",
    "        # Plot c0 locus\n",
    "        plt.axvline(x = self.kss,linestyle = '--',\n",
    "                    label = '$\\\\dot{c}=0$ locus')\n",
    "        # Plot saddle path\n",
    "        plt.plot(k,self.cFunc(k), label = 'Saddle path')\n",
    "        # Plot steady state\n",
    "        plt.plot(self.kss,self.css,'*r', label = 'Steady state')\n",
    "        \n",
    "        # Add arrows ilustrating behavior in different parts of\n",
    "        # the diagram.\n",
    "        # Taken from:\n",
    "        # http://systems-sciences.uni-graz.at/etextbook/sw2/phpl_python.html\n",
    "        if arrows:\n",
    "            x = np.linspace(k[0],k[-1],n_arrows)\n",
    "            y = np.linspace(self.cFunc(k[0]),self.cFunc(k[-1]),n_arrows)\n",
    "            \n",
    "            X, Y = np.meshgrid(x,y)\n",
    "            dc = self.dcdt(Y,X)\n",
    "            dk = self.dkdt(Y,X)\n",
    "            \n",
    "            M = (np.hypot(dk, dc))\n",
    "            M[ M == 0] = 1.\n",
    "            dk /= M\n",
    "            dc /= M\n",
    "            plt.quiver(X, Y, dk, dc, M, pivot='mid', alpha = 0.3)\n",
    "        \n",
    "        # Labels\n",
    "        if labels:\n",
    "            plt.title('Phase diagram and consumption rule\\n(normalized by efficiency units)')\n",
    "            plt.xlabel('k')\n",
    "            plt.ylabel('c')\n",
    "        if legend:\n",
    "            plt.legend()\n",
    "        \n",
    "    \n",
    "    def J_matrix(self,c,k):\n",
    "        \"\"\"\n",
    "        Returns the matrix of first derivatives of the solution's dynamic system\n",
    "        evaluated at the point (c,k).\n",
    "        This matrix is used for linear approximations of the system around point\n",
    "        (c,k).\n",
    "        \"\"\"\n",
    "        \n",
    "        J = np.array([[1/self.rho*(self.alpha*k**(self.alpha - 1)-\\\n",
    "                                   self.theta-self.xi-self.delta-self.phi),\\\n",
    "                       c/self.rho*\\\n",
    "                       self.alpha*(self.alpha - 1)*k**(self.alpha - 2)],\n",
    "                      [-1,\n",
    "                       self.alpha*k**(self.alpha-1) -\\\n",
    "                       (self.phi + self.xi +self.delta)]])\n",
    "        \n",
    "        return(J)\n",
    "    \n",
    "    def slope_ss(self):\n",
    "        \"\"\"\n",
    "        Finds the slope of the saddle path at the steady state.\n",
    "        \"\"\"\n",
    "        J = self.J_matrix(self.css,self.kss)\n",
    "        \n",
    "        # Find eigenvalues and eigenvectors\n",
    "        w, v = LA.eig(J)\n",
    "        # Find position of smallest eigenvalue\n",
    "        min_eig = np.argsort(w)[0]\n",
    "        \n",
    "        # The slope of the saddle path is that\n",
    "        # generated by the eigenvector of the\n",
    "        # negative eigenvalue.\n",
    "        slope = v[0,min_eig]/v[1,min_eig]\n",
    "        \n",
    "        return(slope)"
   ]
  },
  {
   "cell_type": "markdown",
   "metadata": {},
   "source": [
    "## _Example_\n",
    "\n",
    "This is a quick example of how the class is used.\n",
    "\n",
    "An `instance` of the model is first created by assigning the required parameter values.\n",
    "\n",
    "The model needs to be solved in order to find the consumption rule or 'saddle path'."
   ]
  },
  {
   "cell_type": "code",
   "execution_count": 3,
   "metadata": {
    "code_folding": [
     0
    ]
   },
   "outputs": [
    {
     "name": "stdout",
     "output_type": "stream",
     "text": [
      "Consumption at k = 1.13 is c = 0.75\n"
     ]
    }
   ],
   "source": [
    "# Create and solve model\n",
    "RCKmodExample = RCKmod(rho = 2,alpha = 0.3,theta = 0.02,xi = 0.01,\n",
    "                       delta = 0.08,phi = 0.03)\n",
    "RCKmodExample.solve()\n",
    "\n",
    "# Test the consumption rule\n",
    "print('Consumption at k = %1.2f is c = %1.2f'\\\n",
    "      % (RCKmodExample.kss/2, RCKmodExample.cFunc(RCKmodExample.kss/2)))"
   ]
  },
  {
   "cell_type": "markdown",
   "metadata": {},
   "source": [
    "The model's phase diagram can then be generated."
   ]
  },
  {
   "cell_type": "code",
   "execution_count": 4,
   "metadata": {},
   "outputs": [
    {
     "data": {
      "image/png": "[encoded data removed]",
      "text/plain": [
       "<Figure size 432x288 with 1 Axes>"
      ]
     },
     "metadata": {
      "needs_background": "light"
     },
     "output_type": "display_data"
    }
   ],
   "source": [
    "RCKmodExample.phase_diagram(arrows= True, n_arrows = 12)"
   ]
  },
  {
   "cell_type": "markdown",
   "metadata": {},
   "source": [
    "The $\\texttt{RCKmod}$ class can also be used to simulate the dynamics of capital given a starting point."
   ]
  },
  {
   "cell_type": "code",
   "execution_count": 5,
   "metadata": {
    "code_folding": [
     0
    ]
   },
   "outputs": [
    {
     "data": {
      "image/png": "[encoded data removed]",
      "text/plain": [
       "<Figure size 432x288 with 1 Axes>"
      ]
     },
     "metadata": {
      "needs_background": "light"
     },
     "output_type": "display_data"
    }
   ],
   "source": [
    "# Create the points in time then plot c and k at those points\n",
    "# Create grid of time points\n",
    "t = np.linspace(0,100,100)\n",
    "\n",
    "# Find capital dynamics at the desired time points and with\n",
    "# a given starting capital\n",
    "k0 = 4\n",
    "k = RCKmodExample.k_dynamics(k0,t)\n",
    "\n",
    "# Plot\n",
    "plt.figure()\n",
    "plt.plot(t,k)\n",
    "plt.axhline(y = RCKmodExample.kss,linestyle = '--',color = 'k',\n",
    "            label = '$\\\\bar{k}$')\n",
    "plt.title('Capital')\n",
    "plt.xlabel('Time')\n",
    "plt.legend()\n",
    "plt.show()"
   ]
  },
  {
   "cell_type": "markdown",
   "metadata": {},
   "source": [
    "With capital, the consumption rule can be used to find the dynamics of consumption."
   ]
  },
  {
   "cell_type": "code",
   "execution_count": 6,
   "metadata": {
    "code_folding": [
     0
    ]
   },
   "outputs": [
    {
     "data": {
      "image/png": "[encoded data removed]",
      "text/plain": [
       "<Figure size 432x288 with 1 Axes>"
      ]
     },
     "metadata": {
      "needs_background": "light"
     },
     "output_type": "display_data"
    }
   ],
   "source": [
    "# Find consumption\n",
    "c = RCKmodExample.cFunc(k)\n",
    "\n",
    "# Plot\n",
    "plt.figure()\n",
    "plt.plot(t,c)\n",
    "plt.axhline(y = RCKmodExample.css,linestyle = '--',color = 'k',\n",
    "            label = '$\\\\bar{c}$')\n",
    "plt.title('Consumption')\n",
    "plt.xlabel('Time')\n",
    "plt.legend()\n",
    "plt.show()"
   ]
  },
  {
   "cell_type": "markdown",
   "metadata": {
    "heading_collapsed": true
   },
   "source": [
    "# Appendix 1: finding the slope of the saddle path at the steady state\n",
    "\n",
    "From the solution of the model, we know that the system of differential equations that describes the dynamics of $c$ and $k$ is \n",
    "\n",
    "\\begin{align}\n",
    "\\begin{bmatrix}\n",
    "\\dot{c_t}\\\\\n",
    "\\dot{k_t}\n",
    "\\end{bmatrix}\n",
    "=\n",
    "\\begin{bmatrix}\n",
    "f(c_t,k_t)\\\\\n",
    "g(c_t,k_t)\n",
    "\\end{bmatrix}\n",
    "=\n",
    "\\begin{bmatrix}\n",
    "\\frac{c_t}{\\rho}(\\alpha k_t^{\\alpha - 1} - \\theta - \\xi - \\delta) - \\phi\\\\\n",
    "k_t^\\alpha - c_t - (\\phi + \\xi + \\delta)*k_t\n",
    "\\end{bmatrix}\n",
    "\\end{align}\n",
    "\n",
    "We seek to approximate this system around the steady state $(\\bar{c},\\bar{k})$ through\n",
    "\n",
    "\\begin{align}\n",
    "\\begin{bmatrix}\n",
    "\\dot{c_t}\\\\\n",
    "\\dot{k_t}\n",
    "\\end{bmatrix}\n",
    "\\approx\n",
    "\\begin{bmatrix}\n",
    "f(\\bar{c},\\bar{k}) + f_c(\\bar{c},\\bar{k})(c_t - \\bar{c}) + f_k(\\bar{c},\\bar{k})(k_t - \\bar{k})\\\\\n",
    "g(\\bar{c},\\bar{k}) + g_c(\\bar{c},\\bar{k})(c_t - \\bar{c}) + g_k(\\bar{c},\\bar{k})(k_t - \\bar{k})\n",
    "\\end{bmatrix}\n",
    "\\end{align}\n",
    "\n",
    "For this we find the system's matrix of first derivatives (the 'Jacobian'):\n",
    "\n",
    "\\begin{align}\n",
    "J(c,k) =\n",
    "\\begin{bmatrix}\n",
    "f_c(c,k) & f_k(c,k)\\\\\n",
    "g_c(c,k) & g_k(c,k)\n",
    "\\end{bmatrix} = \n",
    "\\begin{bmatrix}\n",
    "\\frac{1}{\\rho}(\\alpha k^{\\alpha - 1} - \\theta - \\xi - \\delta) - \\phi & \\frac{c}{\\rho}\\alpha (\\alpha-1) k^{\\alpha - 2}\\\\\n",
    "-1 & \\alpha k^{\\alpha - 1} - (\\phi + \\xi + \\delta)\n",
    "\\end{bmatrix}\n",
    "\\end{align}\n",
    "\n",
    "Given 'saddle-path stability of the system,' (look it up) $J(c_{ss},k_{ss})$ will have a positive and a negative eigenvalue. The slope of the saddle path at steady state capital is $\\bar{k}$ given by the eigenvector associated with the negative eigenvalue.\n",
    "\n",
    "To understand why, rewrite the ODE system as\n",
    "\n",
    "\\begin{align}\n",
    "\\begin{bmatrix}\n",
    "\\dot{c_t}\\\\\n",
    "\\dot{k_t}\n",
    "\\end{bmatrix}\n",
    "\\approx\n",
    "\\begin{bmatrix}\n",
    "f(\\bar{c},\\bar{k})\\\\\n",
    "g(\\bar{c},\\bar{k})\n",
    "\\end{bmatrix}+ J(\\bar{c},\\bar{k})\\times\n",
    "\\begin{bmatrix}\n",
    "c_t - \\bar{c}\\\\\n",
    "k_t - \\bar{k}\n",
    "\\end{bmatrix}.\n",
    "\\end{align}\n",
    "\n",
    "Since $(\\bar{c},\\bar{k})$ are the steady state values, we know $f(\\bar{c},\\bar{k}) = g(\\bar{c},\\bar{k}) = 0$. Now define $\\hat{c} = c - \\bar{c}$ and $\\hat{k} = k - \\bar{k}$, and notice $\\dot{c} = \\dot{\\hat{c}}$ and $\\dot{k} = \\dot{\\hat{k}}$. With these facts and writting $J(\\bar{c},\\bar{k}) = J$ to reduce clutter, we have\n",
    "\n",
    "\\begin{align}\n",
    "\\begin{bmatrix}\n",
    "\\dot{\\hat{c}_t}\\\\\n",
    "\\dot{\\hat{k}_t}\n",
    "\\end{bmatrix}\n",
    "\\approx\n",
    "J\\times\n",
    "\\begin{bmatrix}\n",
    "\\hat{c}_t\\\\\n",
    "\\hat{k}_t\n",
    "\\end{bmatrix},\n",
    "\\end{align}\n",
    "\n",
    "which is a first-order homogeneous ODE system (see ['Matrix differential equation' in Wikipedia](https://en.wikipedia.org/wiki/Matrix_differential_equation)). As discussed in the Wikipedia entry, these systems have solutions of the form\n",
    "\n",
    "\\begin{align}\n",
    "\\begin{bmatrix}\n",
    "\\hat{c}_t\\\\\n",
    "\\hat{k}_t\n",
    "\\end{bmatrix}\n",
    "=\n",
    "c_1 e^{\\lambda_1 t}\\mathbf{u_1} + c_2 e^{\\lambda_2 t}\\mathbf{u_2}\n",
    "\\end{align}\n",
    "\n",
    "where $c_1$ and $c_2$ are constants, $\\lambda_1$ and $\\lambda_2$ are the eigenvalues of $J$, and $\\mathbf{u_1}$ and $\\mathbf{u_2}$ are their associated eigenvectors.\n",
    "\n",
    "For this model, it can be shown that (for all reasonable parameter values) $J$ has a positive and a negative eigenvalue. Thus, assume $\\lambda_1 < 0$ and $\\lambda_2 > 0$.\n",
    "\n",
    "We are interested in solutions that approximate to the steady state ($\\hat{c}_t = \\hat{k}_t =0$) as $t \\rightarrow \\infty$. For these solutions, we must set $u_2 = 0$: else, given $\\lambda_2 > 0$, $e^{\\lambda_2 t}\\rightarrow \\infty$ as $t \\rightarrow \\infty$ and the system diverges. Therefore, we are left with a solution of the type\n",
    "\n",
    "\\begin{align}\n",
    "\\begin{bmatrix}\n",
    "\\hat{c}_t\\\\\n",
    "\\hat{k}_t\n",
    "\\end{bmatrix}\n",
    "=\n",
    "c_1 e^{\\lambda_1 t}\\mathbf{u_1} =\n",
    "\\begin{bmatrix}\n",
    "c_1 e^{\\lambda_1 t} u_{1,1}\\\\\n",
    "c_1 e^{\\lambda_1 t} u_{1,2}\n",
    "\\end{bmatrix}.\n",
    "\\end{align}\n",
    "\n",
    "Note that, given $\\lambda_1<0$, as $t \\rightarrow \\infty$, $e^{\\lambda_1 t}\\rightarrow 0$ and $[\\hat{c}_t,\\hat{k}_t] = [0,0]$ which is precisely what we require.\n",
    "\n",
    "From the previous solution, we know that in our linear approximation of the dynamic system around $[\\hat{c}_t, \\hat{k}_t] = [0,0]$, the ratio $\\hat{c}_t/\\hat{k}_t$ will be the constant $u_{1,1}/u_{1,2}$. Therefore, we can conclude that the slope of the tangent to the saddle path (in k-c coordinates) at the steady state capital $\\bar{k}$ will be exactly $u_{1,1}/u_{1,2}$ where $\\mathbf{u_1}$ is the eigenvector associated with the negative eigenvalue of the Jacobian matrix $J$.  This corresponds to the \"time elimination\" step, because $u_{1,1}$ corresponds to $dc/dt$ and $u_{2,1}$ corresponds to $dk/dt$, so $u_{1,1}/u_{1,2}$ corresponds to $(dc/dt)/(dk/dt)=dc/dk$, which is the slope of the consumption function at the steady state."
   ]
  },
  {
   "cell_type": "markdown",
   "metadata": {},
   "source": [
    "# Appendix 2: Figures for Christopher D. Carroll's lecture notes"
   ]
  },
  {
   "cell_type": "code",
   "execution_count": 7,
   "metadata": {
    "code_folding": [
     0,
     8
    ]
   },
   "outputs": [
    {
     "data": {
      "image/png": "[encoded data removed]",
      "text/plain": [
       "<Figure size 432x288 with 1 Axes>"
      ]
     },
     "metadata": {
      "needs_background": "light"
     },
     "output_type": "display_data"
    }
   ],
   "source": [
    "# Figure RamseySSPlot\n",
    "\n",
    "labels = ['$\\phi$ low','$\\phi$ high']\n",
    "colors = ['red','blue']\n",
    "g = [0.01,0.1]\n",
    "npoints = 100\n",
    "\n",
    "plt.figure()\n",
    "for i in range(len(g)):\n",
    "    \n",
    "    # Create model\n",
    "    RCKmodExample = RCKmod(rho = 2,alpha = 0.3,theta = 0.02,xi = 0.01,\n",
    "                           delta = 0.08,phi = g[i])\n",
    "    \n",
    "    # K range\n",
    "    k = np.linspace(0,RCKmodExample.kmax,npoints)\n",
    "        \n",
    "    # Plot k0 locus\n",
    "    plt.plot(k,RCKmodExample.k0locus(k),color = colors[i])\n",
    "    \n",
    "    k_dummy = (RCKmodExample.kmax + RCKmodExample.kss) / 2\n",
    "    \n",
    "    plt.annotate('$\\\\dot{k}=0$, ' + labels[i],\n",
    "                 xy=(k_dummy, RCKmodExample.k0locus(k_dummy)),\n",
    "                 xytext=(k_dummy, RCKmodExample.k0locus(k_dummy)*1.3),\n",
    "                 arrowprops = dict(color = 'black', width = 0.05,\n",
    "                                   headwidth = 5, headlength = 7))\n",
    "    # Plot c0 locus\n",
    "    plt.axvline(x = RCKmodExample.kss,linestyle = '--',color = colors[i])\n",
    "    \n",
    "    plt.annotate('$\\\\dot{c} = 0$, ' + labels[i],\n",
    "                 xy=(RCKmodExample.kss, RCKmodExample.css/3),\n",
    "                 xytext=(RCKmodExample.kss + 2, RCKmodExample.css/3),\n",
    "                 arrowprops = dict(color = 'black', width = 0.05,\n",
    "                                   headwidth = 5, headlength = 7))\n",
    "\n",
    "# Labels\n",
    "plt.title('$\\\\dot{c}/c = 0$ and $\\\\dot{k} = 0$ Loci')\n",
    "plt.xlabel('k')\n",
    "plt.ylabel('c')\n",
    "show('RamseySSPlot')"
   ]
  },
  {
   "cell_type": "code",
   "execution_count": 8,
   "metadata": {
    "code_folding": [
     0
    ],
    "scrolled": true
   },
   "outputs": [
    {
     "data": {
      "image/png": "[encoded data removed]",
      "text/plain": [
       "<Figure size 432x288 with 1 Axes>"
      ]
     },
     "metadata": {
      "needs_background": "light"
     },
     "output_type": "display_data"
    }
   ],
   "source": [
    "# Figure RamseySaddlePlot\n",
    "npoints = 100\n",
    "\n",
    "# Create and solve model\n",
    "RCKmodExample = RCKmod(rho = 2,alpha = 0.3,theta = 0.02,xi = 0.01,\n",
    "                       delta = 0.08,phi = 0.03)\n",
    "RCKmodExample.solve()\n",
    "pd = RCKmodExample.phase_diagram(arrows= True, n_arrows = 12, labels = False)\n",
    "\n",
    "# Set initial k for off-path trajectories\n",
    "k0 = RCKmodExample.kss * 0.35\n",
    "\n",
    "# Find values of c: one too high, one too low\n",
    "c_high = RCKmodExample.cFunc(k0) * 1.25\n",
    "c_low = RCKmodExample.cFunc(k0) * 0.75\n",
    "init_cs = [c_low, c_high]\n",
    "\n",
    "# Trajectories with high consumption values become problematic much faster\n",
    "# than those with low consumption, thus, different time intervals are used\n",
    "t_final = [20,3.4602]\n",
    "\n",
    "for i in range(len(init_cs)):\n",
    "        \n",
    "    # Create dynamic system for c and k\n",
    "    dck_dt = lambda ck, t : [RCKmodExample.dcdt(ck[0],ck[1]),\n",
    "                             RCKmodExample.dkdt(ck[0],ck[1])]\n",
    "    \n",
    "    # Create time vector\n",
    "    t = np.linspace(0,t_final[i],npoints)\n",
    "    \n",
    "    # Solve for c and k\n",
    "    ck = odeint(dck_dt, [init_cs[i], k0], t)\n",
    "    \n",
    "    # Plot the trajectory in k-c space\n",
    "    plt.plot(ck[:,1], ck[:,0], 'k')\n",
    "    \n",
    "plt.title('Transition to the Steady State')\n",
    "plt.xlabel('k')\n",
    "plt.ylabel('c')\n",
    "show('RamseySaddlePlot')"
   ]
  }
 ],
 "metadata": {
  "jupytext": {
   "encoding": "# -*- coding: utf-8 -*-",
   "formats": "ipynb,py:percent"
  },
  "kernelspec": {
   "display_name": "Python 3",
   "language": "python",
   "name": "python3"
  },
  "language_info": {
   "codemirror_mode": {
    "name": "ipython",
    "version": 3
   },
   "file_extension": ".py",
   "mimetype": "text/x-python",
   "name": "python",
   "nbconvert_exporter": "python",
   "pygments_lexer": "ipython3",
   "version": "3.6.9"
  },
  "latex_envs": {
   "LaTeX_envs_menu_present": true,
   "autoclose": false,
   "autocomplete": false,
   "bibliofile": "biblio.bib",
   "cite_by": "apalike",
   "current_citInitial": 1,
   "eqLabelWithNumbers": true,
   "eqNumInitial": 1,
   "hotkeys": {
    "equation": "Ctrl-E",
    "itemize": "Ctrl-I"
   },
   "labels_anchors": false,
   "latex_user_defs": false,
   "report_style_numbering": false,
   "user_envs_cfg": false
  },
  "toc": {
   "base_numbering": 1,
   "nav_menu": {},
   "number_sections": true,
   "sideBar": true,
   "skip_h1_title": false,
   "title_cell": "Table of Contents",
   "title_sidebar": "Contents",
   "toc_cell": false,
   "toc_position": {
    "height": "calc(100% - 180px)",
    "left": "10px",
    "top": "150px",
    "width": "165px"
   },
   "toc_section_display": true,
   "toc_window_display": true
  },
  "varInspector": {
   "cols": {
    "lenName": 16,
    "lenType": 16,
    "lenVar": 40
   },
   "kernels_config": {
    "python": {
     "delete_cmd_postfix": "",
     "delete_cmd_prefix": "del ",
     "library": "var_list.py",
     "varRefreshCmd": "print(var_dic_list())"
    },
    "r": {
     "delete_cmd_postfix": ") ",
     "delete_cmd_prefix": "rm(",
     "library": "var_list.r",
     "varRefreshCmd": "cat(var_dic_list()) "
    }
   },
   "types_to_exclude": [
    "module",
    "function",
    "builtin_function_or_method",
    "instance",
    "_Feature"
   ],
   "window_display": false
  }
 },
 "nbformat": 4,
 "nbformat_minor": 2
}
